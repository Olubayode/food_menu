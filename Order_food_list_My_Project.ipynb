{
 "cells": [
  {
   "cell_type": "code",
   "execution_count": 3,
   "metadata": {},
   "outputs": [
    {
     "name": "stdout",
     "output_type": "stream",
     "text": [
      "1. Eggs\n",
      "2. Rice\n",
      "3. Beans\n",
      "4. Oatmeal\n"
     ]
    },
    {
     "name": "stdin",
     "output_type": "stream",
     "text": [
      "Choose a number between 1 to 4 to order for breakfast to eat. 2\n"
     ]
    },
    {
     "name": "stdout",
     "output_type": "stream",
     "text": [
      "Rice\n",
      "You chose Rice as your selected breakfast.\n"
     ]
    },
    {
     "name": "stdin",
     "output_type": "stream",
     "text": [
      "Do you want more options for your Rice Enter Yes or No yes\n",
      "Choose a number between 1 to 4 to select the type of topping to add to your Rice the topings include Beans,Fried Dodo,Meat and Fish,Vegetable. 5\n"
     ]
    },
    {
     "name": "stdout",
     "output_type": "stream",
     "text": [
      "You have inputed wrong command for your seletion\n"
     ]
    }
   ],
   "source": [
    "data = {'1':'Eggs','2':'Rice', '3':'Beans','4':'Oatmeal'}\n",
    "data2= {'1':'Wheat Toast', '2':'Sour Dough', '3':'Hot Dog Toast', '4':'Pancake'}\n",
    "data3= {'1':'Beans', '2':'Fried Dodo', '3':'Meat and Fish', '4':'Vegetable'}\n",
    "#print('1.Eggs')\n",
    "print('1. Eggs')\n",
    "print('2. Rice')\n",
    "print('3. Beans')\n",
    "print('4. Oatmeal')\n",
    "\n",
    "Bread_options =\",\".join(data2.values())\n",
    "mainchoice = input('Choose a number between 1 to 4 to order for breakfast to eat.')\n",
    "if mainchoice in data:\n",
    "    meal=data[mainchoice]\n",
    "    print(meal)\n",
    "   # print(type(mainchoice))\n",
    "    if mainchoice != '1':\n",
    "        if  mainchoice == '2' or '3':\n",
    "            print(f\"You chose {meal} as your selected breakfast.\")\n",
    "            Add_options = input('Do you want more options for your ' + meal + ' Enter Yes or No')\n",
    "            Add_options = Add_options.lower()\n",
    "            if Add_options == 'yes':\n",
    "                topping_options = \",\".join(data3.values())\n",
    "                topping = input('Choose a number between 1 to 4 to select the type of topping to add to your ' + meal + ' the topings include ' + topping_options + '.')\n",
    "                if topping in data3:\n",
    "                    print(data3[topping])\n",
    "                    print('You chose ' + meal + ' with '+ data3[topping] )\n",
    "                else:\n",
    "                    print('You have inputed wrong command for your seletion')\n",
    "            elif Add_options == 'no':\n",
    "                print(f\"You ve selected only {meal} as your breakfast\" )    \n",
    "            else:\n",
    "                print(f\"You ve inputed wrong command.The item {topping_options} are the only available options on our list.What you chose doesn't exit on our order list , please try and consider other options.\")\n",
    "                # print('We have ' + meal + ' but not that ' +  data3[topping] )\n",
    "            \n",
    "        else:    \n",
    "            meal=data[mainchoice]\n",
    "            print(meal)\n",
    "            print('You chose ' + meal  + ' as ' + 'your '+ 'selected breakfast.')\n",
    "    else:\n",
    "        meal =data[mainchoice]\n",
    "        print('You chose ' + meal  + ' as ' + 'your '+ ' selected breakfast.')\n",
    "        More_options = input('Do you want more options for your ' + meal + ' Enter Yes or No')\n",
    "        More_options = More_options.lower()\n",
    "        if More_options == 'yes':\n",
    "            Bread= input('Choose a number between 1 to 4 to select the type of bread. Breads includes;' + Bread_options + '.')\n",
    "            if Bread in data2:\n",
    "               # Bread_options =\",\".join(data2.values())\n",
    "                print(data2[Bread])\n",
    "                print('You chose ' + meal + ' with ' + data2[Bread] + ' as your selected breakfast.')\n",
    "            else:\n",
    "                print('You have inputed wrong command for your seletion')\n",
    "        \n",
    "        elif More_options == 'no':\n",
    "            print(f\"You ve selected only {meal} as your breakfast\" )\n",
    "        else:    \n",
    "            print(f\"You ve inputed wrong command\" )\n",
    "            \n",
    "            \n",
    "else:\n",
    "    print(f\"The command you inputed is not available on our order list\")\n",
    "    "
   ]
  },
  {
   "cell_type": "code",
   "execution_count": null,
   "metadata": {},
   "outputs": [],
   "source": []
  },
  {
   "cell_type": "code",
   "execution_count": null,
   "metadata": {},
   "outputs": [],
   "source": []
  }
 ],
 "metadata": {
  "kernelspec": {
   "display_name": "Python 3 (ipykernel)",
   "language": "python",
   "name": "python3"
  },
  "language_info": {
   "codemirror_mode": {
    "name": "ipython",
    "version": 3
   },
   "file_extension": ".py",
   "mimetype": "text/x-python",
   "name": "python",
   "nbconvert_exporter": "python",
   "pygments_lexer": "ipython3",
   "version": "3.9.12"
  }
 },
 "nbformat": 4,
 "nbformat_minor": 4
}
